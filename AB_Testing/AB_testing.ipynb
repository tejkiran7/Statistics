{
 "cells": [
  {
   "cell_type": "markdown",
   "id": "ccfb732a",
   "metadata": {},
   "source": [
    "<h1>About the A/B Test</h1>\n",
    "The company has developed a new web page in order to try and increase the number of users who \"convert,\" meaning the number of users who decide to pay for the company's product. Your goal is to work through this notebook to help the company understand if they should implement this new page, keep the old page, or perhaps run the experiment longer to make their decision."
   ]
  },
  {
   "cell_type": "markdown",
   "id": "716e43cd",
   "metadata": {},
   "source": [
    "### Data Features\n",
    "- **user_id** → Unique identifier for each user  \n",
    "- **timestamp** → Time of visit  \n",
    "- **group** → Indicates whether the user was in the control or treatment group  \n",
    "- **landing_page** → The version of the page the user saw (new or old)  \n",
    "- **converted** → Whether the user converted (`1 = Yes`, `0 = No`)  \n",
    "\n",
    "### Experiment Design\n",
    "- **Control Group** → Users who saw the old landing page  \n",
    "- **Treatment Group** → Users who saw the new landing page  \n",
    "\n",
    "### Goal\n",
    "The objective is to determine whether the company should:  \n",
    "1. Implement the new page  \n",
    "2. Keep the old page  \n",
    "3. Run the experiment longer before making a decision"
   ]
  },
  {
   "cell_type": "code",
   "execution_count": 1,
   "id": "4f9313a8",
   "metadata": {},
   "outputs": [],
   "source": [
    "import numpy as np\n",
    "import pandas as pd\n",
    "import seaborn as sns\n",
    "import matplotlib.pyplot as plt\n",
    "\n",
    "import warnings\n",
    "warnings.filterwarnings('ignore')"
   ]
  },
  {
   "cell_type": "code",
   "execution_count": 2,
   "id": "d3343fa4",
   "metadata": {},
   "outputs": [],
   "source": [
    "df = pd.read_csv('ab_data.csv')\n",
    "df_countries = pd.read_csv('countries.csv')"
   ]
  },
  {
   "cell_type": "code",
   "execution_count": 3,
   "id": "47704f2d",
   "metadata": {},
   "outputs": [
    {
     "data": {
      "text/html": [
       "<div>\n",
       "<style scoped>\n",
       "    .dataframe tbody tr th:only-of-type {\n",
       "        vertical-align: middle;\n",
       "    }\n",
       "\n",
       "    .dataframe tbody tr th {\n",
       "        vertical-align: top;\n",
       "    }\n",
       "\n",
       "    .dataframe thead th {\n",
       "        text-align: right;\n",
       "    }\n",
       "</style>\n",
       "<table border=\"1\" class=\"dataframe\">\n",
       "  <thead>\n",
       "    <tr style=\"text-align: right;\">\n",
       "      <th></th>\n",
       "      <th>user_id</th>\n",
       "      <th>timestamp</th>\n",
       "      <th>group</th>\n",
       "      <th>landing_page</th>\n",
       "      <th>converted</th>\n",
       "    </tr>\n",
       "  </thead>\n",
       "  <tbody>\n",
       "    <tr>\n",
       "      <th>0</th>\n",
       "      <td>851104</td>\n",
       "      <td>11:48.6</td>\n",
       "      <td>control</td>\n",
       "      <td>old_page</td>\n",
       "      <td>0</td>\n",
       "    </tr>\n",
       "    <tr>\n",
       "      <th>1</th>\n",
       "      <td>804228</td>\n",
       "      <td>01:45.2</td>\n",
       "      <td>control</td>\n",
       "      <td>old_page</td>\n",
       "      <td>0</td>\n",
       "    </tr>\n",
       "    <tr>\n",
       "      <th>2</th>\n",
       "      <td>661590</td>\n",
       "      <td>55:06.2</td>\n",
       "      <td>treatment</td>\n",
       "      <td>new_page</td>\n",
       "      <td>0</td>\n",
       "    </tr>\n",
       "    <tr>\n",
       "      <th>3</th>\n",
       "      <td>853541</td>\n",
       "      <td>28:03.1</td>\n",
       "      <td>treatment</td>\n",
       "      <td>new_page</td>\n",
       "      <td>0</td>\n",
       "    </tr>\n",
       "    <tr>\n",
       "      <th>4</th>\n",
       "      <td>864975</td>\n",
       "      <td>52:26.2</td>\n",
       "      <td>control</td>\n",
       "      <td>old_page</td>\n",
       "      <td>1</td>\n",
       "    </tr>\n",
       "  </tbody>\n",
       "</table>\n",
       "</div>"
      ],
      "text/plain": [
       "   user_id timestamp      group landing_page  converted\n",
       "0   851104   11:48.6    control     old_page          0\n",
       "1   804228   01:45.2    control     old_page          0\n",
       "2   661590   55:06.2  treatment     new_page          0\n",
       "3   853541   28:03.1  treatment     new_page          0\n",
       "4   864975   52:26.2    control     old_page          1"
      ]
     },
     "execution_count": 3,
     "metadata": {},
     "output_type": "execute_result"
    }
   ],
   "source": [
    "df.head()"
   ]
  },
  {
   "cell_type": "code",
   "execution_count": 4,
   "id": "0e8c3cfd",
   "metadata": {},
   "outputs": [
    {
     "data": {
      "text/html": [
       "<div>\n",
       "<style scoped>\n",
       "    .dataframe tbody tr th:only-of-type {\n",
       "        vertical-align: middle;\n",
       "    }\n",
       "\n",
       "    .dataframe tbody tr th {\n",
       "        vertical-align: top;\n",
       "    }\n",
       "\n",
       "    .dataframe thead th {\n",
       "        text-align: right;\n",
       "    }\n",
       "</style>\n",
       "<table border=\"1\" class=\"dataframe\">\n",
       "  <thead>\n",
       "    <tr style=\"text-align: right;\">\n",
       "      <th></th>\n",
       "      <th>user_id</th>\n",
       "      <th>country</th>\n",
       "    </tr>\n",
       "  </thead>\n",
       "  <tbody>\n",
       "    <tr>\n",
       "      <th>0</th>\n",
       "      <td>834778</td>\n",
       "      <td>UK</td>\n",
       "    </tr>\n",
       "    <tr>\n",
       "      <th>1</th>\n",
       "      <td>928468</td>\n",
       "      <td>US</td>\n",
       "    </tr>\n",
       "    <tr>\n",
       "      <th>2</th>\n",
       "      <td>822059</td>\n",
       "      <td>UK</td>\n",
       "    </tr>\n",
       "    <tr>\n",
       "      <th>3</th>\n",
       "      <td>711597</td>\n",
       "      <td>UK</td>\n",
       "    </tr>\n",
       "    <tr>\n",
       "      <th>4</th>\n",
       "      <td>710616</td>\n",
       "      <td>UK</td>\n",
       "    </tr>\n",
       "  </tbody>\n",
       "</table>\n",
       "</div>"
      ],
      "text/plain": [
       "   user_id country\n",
       "0   834778      UK\n",
       "1   928468      US\n",
       "2   822059      UK\n",
       "3   711597      UK\n",
       "4   710616      UK"
      ]
     },
     "execution_count": 4,
     "metadata": {},
     "output_type": "execute_result"
    }
   ],
   "source": [
    "df_countries.head()"
   ]
  },
  {
   "cell_type": "code",
   "execution_count": 5,
   "id": "85af66d8",
   "metadata": {},
   "outputs": [
    {
     "data": {
      "text/html": [
       "<div>\n",
       "<style scoped>\n",
       "    .dataframe tbody tr th:only-of-type {\n",
       "        vertical-align: middle;\n",
       "    }\n",
       "\n",
       "    .dataframe tbody tr th {\n",
       "        vertical-align: top;\n",
       "    }\n",
       "\n",
       "    .dataframe thead th {\n",
       "        text-align: right;\n",
       "    }\n",
       "</style>\n",
       "<table border=\"1\" class=\"dataframe\">\n",
       "  <thead>\n",
       "    <tr style=\"text-align: right;\">\n",
       "      <th></th>\n",
       "      <th>user_id</th>\n",
       "      <th>country</th>\n",
       "      <th>timestamp</th>\n",
       "      <th>group</th>\n",
       "      <th>landing_page</th>\n",
       "      <th>converted</th>\n",
       "    </tr>\n",
       "  </thead>\n",
       "  <tbody>\n",
       "    <tr>\n",
       "      <th>0</th>\n",
       "      <td>834778</td>\n",
       "      <td>UK</td>\n",
       "      <td>08:43.3</td>\n",
       "      <td>control</td>\n",
       "      <td>old_page</td>\n",
       "      <td>0</td>\n",
       "    </tr>\n",
       "    <tr>\n",
       "      <th>1</th>\n",
       "      <td>928468</td>\n",
       "      <td>US</td>\n",
       "      <td>44:16.4</td>\n",
       "      <td>treatment</td>\n",
       "      <td>new_page</td>\n",
       "      <td>0</td>\n",
       "    </tr>\n",
       "    <tr>\n",
       "      <th>2</th>\n",
       "      <td>822059</td>\n",
       "      <td>UK</td>\n",
       "      <td>04:14.7</td>\n",
       "      <td>treatment</td>\n",
       "      <td>new_page</td>\n",
       "      <td>1</td>\n",
       "    </tr>\n",
       "    <tr>\n",
       "      <th>3</th>\n",
       "      <td>711597</td>\n",
       "      <td>UK</td>\n",
       "      <td>14:24.8</td>\n",
       "      <td>control</td>\n",
       "      <td>old_page</td>\n",
       "      <td>0</td>\n",
       "    </tr>\n",
       "    <tr>\n",
       "      <th>4</th>\n",
       "      <td>710616</td>\n",
       "      <td>UK</td>\n",
       "      <td>14:44.0</td>\n",
       "      <td>treatment</td>\n",
       "      <td>new_page</td>\n",
       "      <td>0</td>\n",
       "    </tr>\n",
       "  </tbody>\n",
       "</table>\n",
       "</div>"
      ],
      "text/plain": [
       "   user_id country timestamp      group landing_page  converted\n",
       "0   834778      UK   08:43.3    control     old_page          0\n",
       "1   928468      US   44:16.4  treatment     new_page          0\n",
       "2   822059      UK   04:14.7  treatment     new_page          1\n",
       "3   711597      UK   14:24.8    control     old_page          0\n",
       "4   710616      UK   14:44.0  treatment     new_page          0"
      ]
     },
     "execution_count": 5,
     "metadata": {},
     "output_type": "execute_result"
    }
   ],
   "source": [
    "df = pd.merge(df_countries,df, on='user_id', how='inner')\n",
    "df.head()"
   ]
  },
  {
   "cell_type": "markdown",
   "id": "c2e9089d",
   "metadata": {},
   "source": [
    "### Dealing with Duplicate Variables\n",
    "To ensure data integrity, I kept only the first occurrence of each user_id, removing any duplicate entries."
   ]
  },
  {
   "cell_type": "code",
   "execution_count": 6,
   "id": "c173050a",
   "metadata": {},
   "outputs": [
    {
     "name": "stdout",
     "output_type": "stream",
     "text": [
      "Duplicate user IDs: 3897\n"
     ]
    }
   ],
   "source": [
    "print(f\"Duplicate user IDs: {df.duplicated(subset=['user_id']).sum()}\")"
   ]
  },
  {
   "cell_type": "code",
   "execution_count": 7,
   "id": "64049dd5",
   "metadata": {},
   "outputs": [
    {
     "name": "stdout",
     "output_type": "stream",
     "text": [
      "Duplicate user IDs after cleaning: 0\n"
     ]
    }
   ],
   "source": [
    "# Remove duplicate user_id entries (keeping the first occurrence)\n",
    "df = df.drop_duplicates(subset=['user_id'],keep='first')\n",
    "\n",
    "# Verify if duplicates remain\n",
    "print(f\"Duplicate user IDs after cleaning: {df.duplicated(subset=['user_id']).sum()}\")"
   ]
  },
  {
   "cell_type": "code",
   "execution_count": 8,
   "id": "bbb3ae82",
   "metadata": {},
   "outputs": [
    {
     "name": "stdout",
     "output_type": "stream",
     "text": [
      "Number of mismatched entries: 2044\n",
      "\n",
      "Missing Values:\n",
      "user_id         0\n",
      "country         0\n",
      "timestamp       0\n",
      "group           0\n",
      "landing_page    0\n",
      "converted       0\n",
      "dtype: int64\n"
     ]
    }
   ],
   "source": [
    "mismatch = df[(df['group'] == 'control') & (df['landing_page'] != 'old_page') | \n",
    "              (df['group'] == 'treatment') & (df['landing_page'] != 'new_page')]\n",
    "print(f\"Number of mismatched entries: {len(mismatch)}\")\n",
    "\n",
    "print(\"\\nMissing Values:\")\n",
    "#check for missing values\n",
    "print(df.isnull().sum())"
   ]
  },
  {
   "cell_type": "code",
   "execution_count": 9,
   "id": "3f307e2b",
   "metadata": {},
   "outputs": [
    {
     "data": {
      "text/html": [
       "<div>\n",
       "<style scoped>\n",
       "    .dataframe tbody tr th:only-of-type {\n",
       "        vertical-align: middle;\n",
       "    }\n",
       "\n",
       "    .dataframe tbody tr th {\n",
       "        vertical-align: top;\n",
       "    }\n",
       "\n",
       "    .dataframe thead th {\n",
       "        text-align: right;\n",
       "    }\n",
       "</style>\n",
       "<table border=\"1\" class=\"dataframe\">\n",
       "  <thead>\n",
       "    <tr style=\"text-align: right;\">\n",
       "      <th></th>\n",
       "      <th>user_id</th>\n",
       "      <th>country</th>\n",
       "      <th>timestamp</th>\n",
       "      <th>group</th>\n",
       "      <th>landing_page</th>\n",
       "      <th>converted</th>\n",
       "    </tr>\n",
       "  </thead>\n",
       "  <tbody>\n",
       "    <tr>\n",
       "      <th>102</th>\n",
       "      <td>842181</td>\n",
       "      <td>US</td>\n",
       "      <td>29:39.0</td>\n",
       "      <td>treatment</td>\n",
       "      <td>old_page</td>\n",
       "      <td>0</td>\n",
       "    </tr>\n",
       "    <tr>\n",
       "      <th>422</th>\n",
       "      <td>942678</td>\n",
       "      <td>US</td>\n",
       "      <td>37:44.6</td>\n",
       "      <td>treatment</td>\n",
       "      <td>old_page</td>\n",
       "      <td>0</td>\n",
       "    </tr>\n",
       "    <tr>\n",
       "      <th>618</th>\n",
       "      <td>795558</td>\n",
       "      <td>CA</td>\n",
       "      <td>11:06.6</td>\n",
       "      <td>control</td>\n",
       "      <td>new_page</td>\n",
       "      <td>1</td>\n",
       "    </tr>\n",
       "    <tr>\n",
       "      <th>664</th>\n",
       "      <td>886346</td>\n",
       "      <td>US</td>\n",
       "      <td>53:13.1</td>\n",
       "      <td>control</td>\n",
       "      <td>new_page</td>\n",
       "      <td>0</td>\n",
       "    </tr>\n",
       "    <tr>\n",
       "      <th>783</th>\n",
       "      <td>886323</td>\n",
       "      <td>UK</td>\n",
       "      <td>23:13.4</td>\n",
       "      <td>control</td>\n",
       "      <td>new_page</td>\n",
       "      <td>0</td>\n",
       "    </tr>\n",
       "  </tbody>\n",
       "</table>\n",
       "</div>"
      ],
      "text/plain": [
       "     user_id country timestamp      group landing_page  converted\n",
       "102   842181      US   29:39.0  treatment     old_page          0\n",
       "422   942678      US   37:44.6  treatment     old_page          0\n",
       "618   795558      CA   11:06.6    control     new_page          1\n",
       "664   886346      US   53:13.1    control     new_page          0\n",
       "783   886323      UK   23:13.4    control     new_page          0"
      ]
     },
     "execution_count": 9,
     "metadata": {},
     "output_type": "execute_result"
    }
   ],
   "source": [
    "mismatch.head()"
   ]
  },
  {
   "cell_type": "markdown",
   "id": "810961fe",
   "metadata": {},
   "source": [
    "#### There are 2,044 mismatched entries, meaning:\n",
    "- Some users in control saw the new_page.\n",
    "- Some users in treatment saw the old_page."
   ]
  },
  {
   "cell_type": "code",
   "execution_count": 10,
   "id": "93e8385b",
   "metadata": {},
   "outputs": [
    {
     "name": "stdout",
     "output_type": "stream",
     "text": [
      "Number of mismatched entries after cleaning: 0\n"
     ]
    }
   ],
   "source": [
    "# Remove rows where group and landing_page don't match\n",
    "df_cleaned = df[((df['group'] == 'control') & (df['landing_page'] == 'old_page')) |\n",
    "                ((df['group'] == 'treatment') & (df['landing_page'] == 'new_page'))]\n",
    "\n",
    "# Verify if mismatches remain\n",
    "mismatches_after = df_cleaned[((df_cleaned['group'] == 'control') & (df_cleaned['landing_page'] != 'old_page')) |\n",
    "                              ((df_cleaned['group'] == 'treatment') & (df_cleaned['landing_page'] != 'new_page'))]\n",
    "\n",
    "print(f\"Number of mismatched entries after cleaning: {len(mismatches_after)}\")"
   ]
  },
  {
   "cell_type": "code",
   "execution_count": 11,
   "id": "c6bb365e",
   "metadata": {},
   "outputs": [
    {
     "data": {
      "text/html": [
       "<div>\n",
       "<style scoped>\n",
       "    .dataframe tbody tr th:only-of-type {\n",
       "        vertical-align: middle;\n",
       "    }\n",
       "\n",
       "    .dataframe tbody tr th {\n",
       "        vertical-align: top;\n",
       "    }\n",
       "\n",
       "    .dataframe thead th {\n",
       "        text-align: right;\n",
       "    }\n",
       "</style>\n",
       "<table border=\"1\" class=\"dataframe\">\n",
       "  <thead>\n",
       "    <tr style=\"text-align: right;\">\n",
       "      <th></th>\n",
       "      <th>user_id</th>\n",
       "      <th>country</th>\n",
       "      <th>timestamp</th>\n",
       "      <th>group</th>\n",
       "      <th>landing_page</th>\n",
       "      <th>converted</th>\n",
       "    </tr>\n",
       "  </thead>\n",
       "  <tbody>\n",
       "    <tr>\n",
       "      <th>0</th>\n",
       "      <td>834778</td>\n",
       "      <td>UK</td>\n",
       "      <td>08:43.3</td>\n",
       "      <td>control</td>\n",
       "      <td>old_page</td>\n",
       "      <td>0</td>\n",
       "    </tr>\n",
       "    <tr>\n",
       "      <th>1</th>\n",
       "      <td>928468</td>\n",
       "      <td>US</td>\n",
       "      <td>44:16.4</td>\n",
       "      <td>treatment</td>\n",
       "      <td>new_page</td>\n",
       "      <td>0</td>\n",
       "    </tr>\n",
       "    <tr>\n",
       "      <th>2</th>\n",
       "      <td>822059</td>\n",
       "      <td>UK</td>\n",
       "      <td>04:14.7</td>\n",
       "      <td>treatment</td>\n",
       "      <td>new_page</td>\n",
       "      <td>1</td>\n",
       "    </tr>\n",
       "    <tr>\n",
       "      <th>3</th>\n",
       "      <td>711597</td>\n",
       "      <td>UK</td>\n",
       "      <td>14:24.8</td>\n",
       "      <td>control</td>\n",
       "      <td>old_page</td>\n",
       "      <td>0</td>\n",
       "    </tr>\n",
       "    <tr>\n",
       "      <th>4</th>\n",
       "      <td>710616</td>\n",
       "      <td>UK</td>\n",
       "      <td>14:44.0</td>\n",
       "      <td>treatment</td>\n",
       "      <td>new_page</td>\n",
       "      <td>0</td>\n",
       "    </tr>\n",
       "  </tbody>\n",
       "</table>\n",
       "</div>"
      ],
      "text/plain": [
       "   user_id country timestamp      group landing_page  converted\n",
       "0   834778      UK   08:43.3    control     old_page          0\n",
       "1   928468      US   44:16.4  treatment     new_page          0\n",
       "2   822059      UK   04:14.7  treatment     new_page          1\n",
       "3   711597      UK   14:24.8    control     old_page          0\n",
       "4   710616      UK   14:44.0  treatment     new_page          0"
      ]
     },
     "execution_count": 11,
     "metadata": {},
     "output_type": "execute_result"
    }
   ],
   "source": [
    "df_cleaned.head()"
   ]
  },
  {
   "cell_type": "markdown",
   "id": "06d58b59",
   "metadata": {},
   "source": [
    "#### Addressing Timestamp\n",
    "The dataset contains information from the **first 60 minutes** of operation."
   ]
  },
  {
   "cell_type": "code",
   "execution_count": 12,
   "id": "15022803",
   "metadata": {},
   "outputs": [],
   "source": [
    "df_cleaned['minutes'] = df_cleaned['timestamp'].str.split(':').str[0].astype(int)\n",
    "df_cleaned['seconds'] = df_cleaned['timestamp'].str.split(':').str[1].astype(float)"
   ]
  },
  {
   "cell_type": "code",
   "execution_count": 13,
   "id": "233fad51",
   "metadata": {},
   "outputs": [
    {
     "data": {
      "text/html": [
       "<div>\n",
       "<style scoped>\n",
       "    .dataframe tbody tr th:only-of-type {\n",
       "        vertical-align: middle;\n",
       "    }\n",
       "\n",
       "    .dataframe tbody tr th {\n",
       "        vertical-align: top;\n",
       "    }\n",
       "\n",
       "    .dataframe thead th {\n",
       "        text-align: right;\n",
       "    }\n",
       "</style>\n",
       "<table border=\"1\" class=\"dataframe\">\n",
       "  <thead>\n",
       "    <tr style=\"text-align: right;\">\n",
       "      <th></th>\n",
       "      <th>timestamp</th>\n",
       "      <th>minutes</th>\n",
       "      <th>seconds</th>\n",
       "      <th>total_seconds</th>\n",
       "    </tr>\n",
       "  </thead>\n",
       "  <tbody>\n",
       "    <tr>\n",
       "      <th>0</th>\n",
       "      <td>08:43.3</td>\n",
       "      <td>8</td>\n",
       "      <td>43.3</td>\n",
       "      <td>523.3</td>\n",
       "    </tr>\n",
       "    <tr>\n",
       "      <th>1</th>\n",
       "      <td>44:16.4</td>\n",
       "      <td>44</td>\n",
       "      <td>16.4</td>\n",
       "      <td>2656.4</td>\n",
       "    </tr>\n",
       "    <tr>\n",
       "      <th>2</th>\n",
       "      <td>04:14.7</td>\n",
       "      <td>4</td>\n",
       "      <td>14.7</td>\n",
       "      <td>254.7</td>\n",
       "    </tr>\n",
       "    <tr>\n",
       "      <th>3</th>\n",
       "      <td>14:24.8</td>\n",
       "      <td>14</td>\n",
       "      <td>24.8</td>\n",
       "      <td>864.8</td>\n",
       "    </tr>\n",
       "    <tr>\n",
       "      <th>4</th>\n",
       "      <td>14:44.0</td>\n",
       "      <td>14</td>\n",
       "      <td>44.0</td>\n",
       "      <td>884.0</td>\n",
       "    </tr>\n",
       "  </tbody>\n",
       "</table>\n",
       "</div>"
      ],
      "text/plain": [
       "  timestamp  minutes  seconds  total_seconds\n",
       "0   08:43.3        8     43.3          523.3\n",
       "1   44:16.4       44     16.4         2656.4\n",
       "2   04:14.7        4     14.7          254.7\n",
       "3   14:24.8       14     24.8          864.8\n",
       "4   14:44.0       14     44.0          884.0"
      ]
     },
     "execution_count": 13,
     "metadata": {},
     "output_type": "execute_result"
    }
   ],
   "source": [
    "#compute total seconds\n",
    "df_cleaned['total_seconds'] = df_cleaned['minutes'] * 60 + df_cleaned['seconds']\n",
    "\n",
    "#Display the first few rows to verify\n",
    "df_cleaned[['timestamp','minutes','seconds','total_seconds']].head()"
   ]
  },
  {
   "cell_type": "markdown",
   "id": "92c2a5a7",
   "metadata": {},
   "source": [
    "Visualizing Country as a factor"
   ]
  },
  {
   "cell_type": "code",
   "execution_count": 14,
   "id": "fd1970ef",
   "metadata": {},
   "outputs": [
    {
     "data": {
      "image/png": "[encoded data removed]",
      "text/plain": [
       "<Figure size 1200x600 with 1 Axes>"
      ]
     },
     "metadata": {},
     "output_type": "display_data"
    }
   ],
   "source": [
    "# Set style\n",
    "sns.set(style=\"whitegrid\")\n",
    "\n",
    "# Plot\n",
    "plt.figure(figsize=(12, 6))\n",
    "ax = df['country'].value_counts().plot(kind='bar', color='skyblue', edgecolor='black')\n",
    "\n",
    "plt.xlabel('Country')\n",
    "plt.ylabel('Number of Users')\n",
    "plt.title(\"User Distribution by Country\")\n",
    "plt.xticks(rotation=45)\n",
    "plt.grid(axis='y', linestyle=\"--\", alpha=0.7)\n",
    "\n",
    "# Add value labels\n",
    "for p in ax.patches:\n",
    "    ax.annotate(\n",
    "        str(int(p.get_height())),                # Value\n",
    "        (p.get_x() + p.get_width() / 2, p.get_height()),  # Position\n",
    "        ha='center', va='bottom', fontsize=10, fontweight='bold'\n",
    "    )\n",
    "\n",
    "plt.show()"
   ]
  },
  {
   "cell_type": "code",
   "execution_count": 15,
   "id": "980e5961",
   "metadata": {},
   "outputs": [
    {
     "data": {
      "image/png": "[encoded data removed]",
      "text/plain": [
       "<Figure size 1200x600 with 1 Axes>"
      ]
     },
     "metadata": {},
     "output_type": "display_data"
    },
    {
     "data": {
      "image/png": "[encoded data removed]",
      "text/plain": [
       "<Figure size 1200x600 with 1 Axes>"
      ]
     },
     "metadata": {},
     "output_type": "display_data"
    }
   ],
   "source": [
    "# Set style\n",
    "sns.set(style=\"whitegrid\")\n",
    "\n",
    "# Chart 1: Conversion Rate by Group and Country\n",
    "plt.figure(figsize=(12, 6))\n",
    "sns.barplot(\n",
    "    data=df_cleaned,\n",
    "    x='country',\n",
    "    y='converted',\n",
    "    hue='group',\n",
    "    estimator=lambda x: sum(x)/len(x),\n",
    "    ci=None,\n",
    "    palette='Set2'\n",
    ")\n",
    "plt.title(\"Conversion Rate by Group and Country\")\n",
    "plt.ylabel(\"Conversion Rate\")\n",
    "plt.xlabel(\"Country\")\n",
    "plt.ylim(0, 0.2)\n",
    "plt.legend(title=\"Group\")\n",
    "plt.grid(axis='y', linestyle='--', alpha=0.6)\n",
    "plt.show()\n",
    "\n",
    "# Chart 2: User Count by Group and Country\n",
    "plt.figure(figsize=(12, 6))\n",
    "sns.countplot(\n",
    "    data=df_cleaned,\n",
    "    x='country',\n",
    "    hue='group',\n",
    "    palette='Set1'\n",
    ")\n",
    "plt.title(\"User Count by Group and Country\")\n",
    "plt.ylabel(\"User Count\")\n",
    "plt.xlabel(\"Country\")\n",
    "plt.legend(title=\"Group\")\n",
    "plt.grid(axis='y', linestyle='--', alpha=0.6)\n",
    "plt.show()"
   ]
  },
  {
   "cell_type": "markdown",
   "id": "9565945a",
   "metadata": {},
   "source": [
    "### Statistical Analysis\n",
    "The following methods were used to evaluate the experiment's results:\n",
    "\n",
    "- **Conversion Rates** → Compare the proportion of users who converted in each group\n",
    "- **Welch’s T-Test** → Assess if there is a significant difference in conversion rates\n",
    "- **Chi-Square Test** → Evaluate whether conversions are independent of the landing page version"
   ]
  },
  {
   "cell_type": "code",
   "execution_count": 16,
   "id": "e37e05dd",
   "metadata": {},
   "outputs": [
    {
     "data": {
      "text/html": [
       "<div>\n",
       "<style scoped>\n",
       "    .dataframe tbody tr th:only-of-type {\n",
       "        vertical-align: middle;\n",
       "    }\n",
       "\n",
       "    .dataframe tbody tr th {\n",
       "        vertical-align: top;\n",
       "    }\n",
       "\n",
       "    .dataframe thead th {\n",
       "        text-align: right;\n",
       "    }\n",
       "</style>\n",
       "<table border=\"1\" class=\"dataframe\">\n",
       "  <thead>\n",
       "    <tr style=\"text-align: right;\">\n",
       "      <th></th>\n",
       "      <th>conversion_rate</th>\n",
       "      <th>count</th>\n",
       "    </tr>\n",
       "    <tr>\n",
       "      <th>group</th>\n",
       "      <th></th>\n",
       "      <th></th>\n",
       "    </tr>\n",
       "  </thead>\n",
       "  <tbody>\n",
       "    <tr>\n",
       "      <th>control</th>\n",
       "      <td>0.120290</td>\n",
       "      <td>144226</td>\n",
       "    </tr>\n",
       "    <tr>\n",
       "      <th>treatment</th>\n",
       "      <td>0.118726</td>\n",
       "      <td>144315</td>\n",
       "    </tr>\n",
       "  </tbody>\n",
       "</table>\n",
       "</div>"
      ],
      "text/plain": [
       "           conversion_rate   count\n",
       "group                             \n",
       "control           0.120290  144226\n",
       "treatment         0.118726  144315"
      ]
     },
     "execution_count": 16,
     "metadata": {},
     "output_type": "execute_result"
    }
   ],
   "source": [
    "conversion_rates = df_cleaned.groupby(by='group')['converted'].agg(['mean','count'])\n",
    "conversion_rates.rename(columns={'mean':'conversion_rate'},inplace=True)\n",
    "\n",
    "conversion_rates"
   ]
  },
  {
   "cell_type": "markdown",
   "id": "ff37e78b",
   "metadata": {},
   "source": [
    "### Results\n",
    "The **control group (old page)** had a **slightly higher conversion rate** than the **treatment group (new page)**. However, the difference is **very small.**\n",
    "\n",
    "At first glance, it may seem that the **old page is performing slightly better**, but we need **statistical tests** to determine whether this difference is **significant** or just **random noise**.\n"
   ]
  },
  {
   "cell_type": "markdown",
   "id": "150471ad",
   "metadata": {},
   "source": [
    "## T-Test\n",
    "- The **T-Test** checks whether the observed difference in conversion rates is **statistically significant** or just due to **random variation.**\n",
    "- The **p-value** tells us how likely we are to see this difference if the **null hypothesis (H₀)** were true.\n",
    "- This means we expect the new page to **either perform better or worse** than the old page, depending on the results."
   ]
  },
  {
   "cell_type": "code",
   "execution_count": 17,
   "id": "7506d2cf",
   "metadata": {},
   "outputs": [
    {
     "name": "stdout",
     "output_type": "stream",
     "text": [
      "T-Test p-value: 0.1953\n",
      "The new page does NOT have a significant impact on conversion rate.\n"
     ]
    }
   ],
   "source": [
    "from scipy.stats import ttest_ind\n",
    "\n",
    "# Extract conversion values for each group\n",
    "control = df_cleaned[df_cleaned['group'] == 'control']['converted']\n",
    "treatment = df_cleaned[df_cleaned['group'] == 'treatment']['converted']\n",
    "\n",
    "# Perform Welch’s T-test (unequal variances)\n",
    "t_stat, p_ttest = ttest_ind(control, treatment, equal_var=False)\n",
    "print(f\"T-Test p-value: {p_ttest:.4f}\")\n",
    "\n",
    "if p_ttest < 0.05:\n",
    "    print(\"The new page has a significant impact on conversion rate.\")\n",
    "else:\n",
    "    print(\"The new page does NOT have a significant impact on conversion rate.\")"
   ]
  },
  {
   "cell_type": "markdown",
   "id": "54bc7773",
   "metadata": {},
   "source": [
    "### Results\n",
    "If **p < 0.05**, we reject H₀ (meaning the new page significantly affects conversion).\n",
    "Since **p = 0.1953 > 0.05**, we **fail to reject H₀**.\n",
    "\n",
    "#### Interpretation:\n",
    "✅ p < alpha → Reject H₀ → The new page **significantly impacts** conversions.<br>\n",
    "❌ p > alpha → Fail to reject H₀ → **No strong evidence** that the new page is different.\n",
    "\n",
    "#### Conclusion:\n",
    "The **new page does NOT significantly improve conversion rates.**"
   ]
  },
  {
   "cell_type": "markdown",
   "id": "3d288efc",
   "metadata": {},
   "source": [
    "## Chi-Square Test\n",
    "The **Chi-Square Test compares categorical data** (converted = 0 or 1) between the **control** and **treatment** groups to determine if there is a **statistically significant difference.**"
   ]
  },
  {
   "cell_type": "code",
   "execution_count": 38,
   "id": "76d320c9",
   "metadata": {},
   "outputs": [
    {
     "name": "stdout",
     "output_type": "stream",
     "text": [
      "Chi-Square Test p-value: 0.1973\n",
      "No significant difference in conversion rates.\n"
     ]
    }
   ],
   "source": [
    "from scipy.stats import chi2_contingency\n",
    "\n",
    "# Create a contingency table\n",
    "contingency_table = pd.crosstab(df_cleaned['group'], df_cleaned['converted'])\n",
    "\n",
    "chi2, p, dof, expected = chi2_contingency(contingency_table)\n",
    "print(f\"Chi-Square Test p-value: {p:.4f}\")\n",
    "\n",
    "if p < 0.05:\n",
    "    print(\"The difference in conversion rates is statistically significant.\")\n",
    "else:\n",
    "    print(\"No significant difference in conversion rates.\")"
   ]
  },
  {
   "cell_type": "code",
   "execution_count": 39,
   "id": "85f615a7",
   "metadata": {},
   "outputs": [
    {
     "data": {
      "text/html": [
       "<div>\n",
       "<style scoped>\n",
       "    .dataframe tbody tr th:only-of-type {\n",
       "        vertical-align: middle;\n",
       "    }\n",
       "\n",
       "    .dataframe tbody tr th {\n",
       "        vertical-align: top;\n",
       "    }\n",
       "\n",
       "    .dataframe thead th {\n",
       "        text-align: right;\n",
       "    }\n",
       "</style>\n",
       "<table border=\"1\" class=\"dataframe\">\n",
       "  <thead>\n",
       "    <tr style=\"text-align: right;\">\n",
       "      <th>converted</th>\n",
       "      <th>0</th>\n",
       "      <th>1</th>\n",
       "    </tr>\n",
       "    <tr>\n",
       "      <th>group</th>\n",
       "      <th></th>\n",
       "      <th></th>\n",
       "    </tr>\n",
       "  </thead>\n",
       "  <tbody>\n",
       "    <tr>\n",
       "      <th>control</th>\n",
       "      <td>126877</td>\n",
       "      <td>17349</td>\n",
       "    </tr>\n",
       "    <tr>\n",
       "      <th>treatment</th>\n",
       "      <td>127181</td>\n",
       "      <td>17134</td>\n",
       "    </tr>\n",
       "  </tbody>\n",
       "</table>\n",
       "</div>"
      ],
      "text/plain": [
       "converted       0      1\n",
       "group                   \n",
       "control    126877  17349\n",
       "treatment  127181  17134"
      ]
     },
     "execution_count": 39,
     "metadata": {},
     "output_type": "execute_result"
    }
   ],
   "source": [
    "contingency_table"
   ]
  },
  {
   "cell_type": "markdown",
   "id": "e806c1e3",
   "metadata": {},
   "source": [
    "**Time Approach: Does Time of Visit Affect Conversions?** <br>\n",
    "We analyze whether the **time of visi**t has an impact on conversion rates. By segmenting the data into **time bins**, we can assess if conversions vary over time and whether this influences the effectiveness of the landing page."
   ]
  },
  {
   "cell_type": "code",
   "execution_count": 19,
   "id": "9add8465",
   "metadata": {},
   "outputs": [
    {
     "data": {
      "text/html": [
       "<div>\n",
       "<style scoped>\n",
       "    .dataframe tbody tr th:only-of-type {\n",
       "        vertical-align: middle;\n",
       "    }\n",
       "\n",
       "    .dataframe tbody tr th {\n",
       "        vertical-align: top;\n",
       "    }\n",
       "\n",
       "    .dataframe thead th {\n",
       "        text-align: right;\n",
       "    }\n",
       "</style>\n",
       "<table border=\"1\" class=\"dataframe\">\n",
       "  <thead>\n",
       "    <tr style=\"text-align: right;\">\n",
       "      <th></th>\n",
       "      <th>total_seconds</th>\n",
       "      <th>time_bin</th>\n",
       "    </tr>\n",
       "  </thead>\n",
       "  <tbody>\n",
       "    <tr>\n",
       "      <th>0</th>\n",
       "      <td>523.3</td>\n",
       "      <td>0-10 min</td>\n",
       "    </tr>\n",
       "    <tr>\n",
       "      <th>1</th>\n",
       "      <td>2656.4</td>\n",
       "      <td>40-50 min</td>\n",
       "    </tr>\n",
       "    <tr>\n",
       "      <th>2</th>\n",
       "      <td>254.7</td>\n",
       "      <td>0-10 min</td>\n",
       "    </tr>\n",
       "    <tr>\n",
       "      <th>3</th>\n",
       "      <td>864.8</td>\n",
       "      <td>10-20 min</td>\n",
       "    </tr>\n",
       "    <tr>\n",
       "      <th>4</th>\n",
       "      <td>884.0</td>\n",
       "      <td>10-20 min</td>\n",
       "    </tr>\n",
       "  </tbody>\n",
       "</table>\n",
       "</div>"
      ],
      "text/plain": [
       "   total_seconds   time_bin\n",
       "0          523.3   0-10 min\n",
       "1         2656.4  40-50 min\n",
       "2          254.7   0-10 min\n",
       "3          864.8  10-20 min\n",
       "4          884.0  10-20 min"
      ]
     },
     "execution_count": 19,
     "metadata": {},
     "output_type": "execute_result"
    }
   ],
   "source": [
    "# Define bin edges (0 to 3600 seconds, in 10-minute intervals)\n",
    "bins = np.arange(0, 3600 + 600, 600)  # Bins: [0-600], [600-1200], etc.\n",
    "\n",
    "# Create labels for bins\n",
    "labels = [f\"{int(bins[i]//60)}-{int(bins[i+1]//60)} min\" for i in range(len(bins)-1)]\n",
    "\n",
    "# Categorize total seconds into bins\n",
    "df_cleaned['time_bin'] = pd.cut(df_cleaned['total_seconds'], bins=bins, labels=labels, include_lowest=True)\n",
    "\n",
    "# Check binning result\n",
    "df_cleaned[['total_seconds', 'time_bin']].head()"
   ]
  },
  {
   "cell_type": "code",
   "execution_count": 20,
   "id": "7fd84c0f",
   "metadata": {},
   "outputs": [
    {
     "data": {
      "text/html": [
       "<div>\n",
       "<style scoped>\n",
       "    .dataframe tbody tr th:only-of-type {\n",
       "        vertical-align: middle;\n",
       "    }\n",
       "\n",
       "    .dataframe tbody tr th {\n",
       "        vertical-align: top;\n",
       "    }\n",
       "\n",
       "    .dataframe thead th {\n",
       "        text-align: right;\n",
       "    }\n",
       "</style>\n",
       "<table border=\"1\" class=\"dataframe\">\n",
       "  <thead>\n",
       "    <tr style=\"text-align: right;\">\n",
       "      <th></th>\n",
       "      <th>Time Interval</th>\n",
       "      <th>Group</th>\n",
       "      <th>Conversion Rate</th>\n",
       "    </tr>\n",
       "  </thead>\n",
       "  <tbody>\n",
       "    <tr>\n",
       "      <th>0</th>\n",
       "      <td>0-10 min</td>\n",
       "      <td>control</td>\n",
       "      <td>0.121880</td>\n",
       "    </tr>\n",
       "    <tr>\n",
       "      <th>1</th>\n",
       "      <td>0-10 min</td>\n",
       "      <td>treatment</td>\n",
       "      <td>0.118130</td>\n",
       "    </tr>\n",
       "    <tr>\n",
       "      <th>2</th>\n",
       "      <td>10-20 min</td>\n",
       "      <td>control</td>\n",
       "      <td>0.120246</td>\n",
       "    </tr>\n",
       "    <tr>\n",
       "      <th>3</th>\n",
       "      <td>10-20 min</td>\n",
       "      <td>treatment</td>\n",
       "      <td>0.115934</td>\n",
       "    </tr>\n",
       "    <tr>\n",
       "      <th>4</th>\n",
       "      <td>20-30 min</td>\n",
       "      <td>control</td>\n",
       "      <td>0.120906</td>\n",
       "    </tr>\n",
       "    <tr>\n",
       "      <th>5</th>\n",
       "      <td>20-30 min</td>\n",
       "      <td>treatment</td>\n",
       "      <td>0.119279</td>\n",
       "    </tr>\n",
       "    <tr>\n",
       "      <th>6</th>\n",
       "      <td>30-40 min</td>\n",
       "      <td>control</td>\n",
       "      <td>0.119359</td>\n",
       "    </tr>\n",
       "    <tr>\n",
       "      <th>7</th>\n",
       "      <td>30-40 min</td>\n",
       "      <td>treatment</td>\n",
       "      <td>0.123001</td>\n",
       "    </tr>\n",
       "    <tr>\n",
       "      <th>8</th>\n",
       "      <td>40-50 min</td>\n",
       "      <td>control</td>\n",
       "      <td>0.119389</td>\n",
       "    </tr>\n",
       "    <tr>\n",
       "      <th>9</th>\n",
       "      <td>40-50 min</td>\n",
       "      <td>treatment</td>\n",
       "      <td>0.119192</td>\n",
       "    </tr>\n",
       "    <tr>\n",
       "      <th>10</th>\n",
       "      <td>50-60 min</td>\n",
       "      <td>control</td>\n",
       "      <td>0.119977</td>\n",
       "    </tr>\n",
       "    <tr>\n",
       "      <th>11</th>\n",
       "      <td>50-60 min</td>\n",
       "      <td>treatment</td>\n",
       "      <td>0.116774</td>\n",
       "    </tr>\n",
       "  </tbody>\n",
       "</table>\n",
       "</div>"
      ],
      "text/plain": [
       "   Time Interval      Group  Conversion Rate\n",
       "0       0-10 min    control         0.121880\n",
       "1       0-10 min  treatment         0.118130\n",
       "2      10-20 min    control         0.120246\n",
       "3      10-20 min  treatment         0.115934\n",
       "4      20-30 min    control         0.120906\n",
       "5      20-30 min  treatment         0.119279\n",
       "6      30-40 min    control         0.119359\n",
       "7      30-40 min  treatment         0.123001\n",
       "8      40-50 min    control         0.119389\n",
       "9      40-50 min  treatment         0.119192\n",
       "10     50-60 min    control         0.119977\n",
       "11     50-60 min  treatment         0.116774"
      ]
     },
     "execution_count": 20,
     "metadata": {},
     "output_type": "execute_result"
    }
   ],
   "source": [
    "# Group by time_bin and group (control/treatment) to calculate conversion rates\n",
    "time_conversion = df_cleaned.groupby(by=['time_bin','group'])['converted'].mean().reset_index()\n",
    "\n",
    "# Rename columns for clarity\n",
    "time_conversion.columns = ['Time Interval', 'Group', 'Conversion Rate']\n",
    "\n",
    "# Display result\n",
    "time_conversion"
   ]
  },
  {
   "cell_type": "code",
   "execution_count": 25,
   "id": "91fc9a08",
   "metadata": {},
   "outputs": [
    {
     "data": {
      "image/png": "[encoded data removed]",
      "text/plain": [
       "<Figure size 1200x600 with 1 Axes>"
      ]
     },
     "metadata": {},
     "output_type": "display_data"
    }
   ],
   "source": [
    "# Plot conversion rate over time for both groups\n",
    "plt.figure(figsize=(12, 6))\n",
    "sns.lineplot(x='Time Interval', y='Conversion Rate', hue='Group', marker='o', data=time_conversion)\n",
    "\n",
    "# Customize the plot\n",
    "plt.xticks(rotation=45)\n",
    "plt.xlabel(\"Time of Visit (Minutes)\")\n",
    "plt.ylabel(\"Conversion Rate\")\n",
    "plt.title(\"Conversion Rate Over Time (Control vs. Treatment)\")\n",
    "plt.legend(title=\"Group\")\n",
    "plt.grid(True)\n",
    "\n",
    "# Show the plot\n",
    "plt.show()"
   ]
  },
  {
   "cell_type": "markdown",
   "id": "d29bf594",
   "metadata": {},
   "source": [
    "#### Expected Insights\n",
    "- If the **treatment group** has consistently higher conversion rates → The new page might **perform better** at certain times.\n",
    "- If both lines **overlap** → The **time of visit** doesn't affect conversion rates.\n",
    "- If the **control group** has higher conversion rates → The **old page** outperforms the new page at certain times."
   ]
  },
  {
   "cell_type": "markdown",
   "id": "6c87db73",
   "metadata": {},
   "source": [
    "### Chi-Square Test\n",
    "The Chi-Square Test compares categorical data (converted = 0 or 1) between the control and treatment groups to assess if there is a statistically significant difference in conversions."
   ]
  },
  {
   "cell_type": "code",
   "execution_count": 26,
   "id": "0fa32a0a",
   "metadata": {},
   "outputs": [
    {
     "name": "stdout",
     "output_type": "stream",
     "text": [
      "Chi-Square Test p-value: 0.6902\n",
      "No significant difference in conversion rates based on time of visit.\n"
     ]
    }
   ],
   "source": [
    "from scipy.stats import chi2_contingency\n",
    "\n",
    "# Create a contingency table: counts of converted and not converted per time bin\n",
    "contingency_table = pd.crosstab(df_cleaned['time_bin'], df_cleaned['converted'])\n",
    "\n",
    "# Perform Chi-Square Test\n",
    "chi2, p_chi, _, _ = chi2_contingency(contingency_table)\n",
    "\n",
    "print(f\"Chi-Square Test p-value: {p_chi:.4f}\")\n",
    "\n",
    "if p_chi < 0.05:\n",
    "    print(\"Time of visit has a significant impact on conversion rate.\")\n",
    "else:\n",
    "    print(\"No significant difference in conversion rates based on time of visit.\")"
   ]
  },
  {
   "cell_type": "markdown",
   "id": "b8be168e",
   "metadata": {},
   "source": [
    "### Confidence Interval (CI) for Conversion Rates\n",
    "We calculated the Confidence Interval (CI) for the conversion rates across different time bins, comparing the control and treatment groups. The CI provides a range within which we expect the true conversion rate to fall, giving us an indication of the uncertainty around the estimated conversion rates for each group.\n",
    "\n",
    "The time conversion rate is analyzed by group, showing how conversions differ over time for the old and new landing pages."
   ]
  },
  {
   "cell_type": "code",
   "execution_count": 29,
   "id": "a8997a98",
   "metadata": {},
   "outputs": [
    {
     "data": {
      "text/html": [
       "<div>\n",
       "<style scoped>\n",
       "    .dataframe tbody tr th:only-of-type {\n",
       "        vertical-align: middle;\n",
       "    }\n",
       "\n",
       "    .dataframe tbody tr th {\n",
       "        vertical-align: top;\n",
       "    }\n",
       "\n",
       "    .dataframe thead th {\n",
       "        text-align: right;\n",
       "    }\n",
       "</style>\n",
       "<table border=\"1\" class=\"dataframe\">\n",
       "  <thead>\n",
       "    <tr style=\"text-align: right;\">\n",
       "      <th></th>\n",
       "      <th>Time Interval</th>\n",
       "      <th>Group</th>\n",
       "      <th>Conversion Rate</th>\n",
       "      <th>CI_Lower</th>\n",
       "      <th>CI_Upper</th>\n",
       "    </tr>\n",
       "  </thead>\n",
       "  <tbody>\n",
       "    <tr>\n",
       "      <th>0</th>\n",
       "      <td>0-10 min</td>\n",
       "      <td>control</td>\n",
       "      <td>0.121880</td>\n",
       "      <td>0.117721</td>\n",
       "      <td>0.126040</td>\n",
       "    </tr>\n",
       "    <tr>\n",
       "      <th>1</th>\n",
       "      <td>0-10 min</td>\n",
       "      <td>treatment</td>\n",
       "      <td>0.118130</td>\n",
       "      <td>0.114056</td>\n",
       "      <td>0.122204</td>\n",
       "    </tr>\n",
       "    <tr>\n",
       "      <th>2</th>\n",
       "      <td>10-20 min</td>\n",
       "      <td>control</td>\n",
       "      <td>0.120246</td>\n",
       "      <td>0.116126</td>\n",
       "      <td>0.124365</td>\n",
       "    </tr>\n",
       "    <tr>\n",
       "      <th>3</th>\n",
       "      <td>10-20 min</td>\n",
       "      <td>treatment</td>\n",
       "      <td>0.115934</td>\n",
       "      <td>0.111868</td>\n",
       "      <td>0.119999</td>\n",
       "    </tr>\n",
       "    <tr>\n",
       "      <th>4</th>\n",
       "      <td>20-30 min</td>\n",
       "      <td>control</td>\n",
       "      <td>0.120906</td>\n",
       "      <td>0.116805</td>\n",
       "      <td>0.125007</td>\n",
       "    </tr>\n",
       "    <tr>\n",
       "      <th>5</th>\n",
       "      <td>20-30 min</td>\n",
       "      <td>treatment</td>\n",
       "      <td>0.119279</td>\n",
       "      <td>0.115185</td>\n",
       "      <td>0.123373</td>\n",
       "    </tr>\n",
       "    <tr>\n",
       "      <th>6</th>\n",
       "      <td>30-40 min</td>\n",
       "      <td>control</td>\n",
       "      <td>0.119359</td>\n",
       "      <td>0.115256</td>\n",
       "      <td>0.123463</td>\n",
       "    </tr>\n",
       "    <tr>\n",
       "      <th>7</th>\n",
       "      <td>30-40 min</td>\n",
       "      <td>treatment</td>\n",
       "      <td>0.123001</td>\n",
       "      <td>0.118858</td>\n",
       "      <td>0.127144</td>\n",
       "    </tr>\n",
       "    <tr>\n",
       "      <th>8</th>\n",
       "      <td>40-50 min</td>\n",
       "      <td>control</td>\n",
       "      <td>0.119389</td>\n",
       "      <td>0.115299</td>\n",
       "      <td>0.123478</td>\n",
       "    </tr>\n",
       "    <tr>\n",
       "      <th>9</th>\n",
       "      <td>40-50 min</td>\n",
       "      <td>treatment</td>\n",
       "      <td>0.119192</td>\n",
       "      <td>0.115108</td>\n",
       "      <td>0.123277</td>\n",
       "    </tr>\n",
       "    <tr>\n",
       "      <th>10</th>\n",
       "      <td>50-60 min</td>\n",
       "      <td>control</td>\n",
       "      <td>0.119977</td>\n",
       "      <td>0.115876</td>\n",
       "      <td>0.124078</td>\n",
       "    </tr>\n",
       "    <tr>\n",
       "      <th>11</th>\n",
       "      <td>50-60 min</td>\n",
       "      <td>treatment</td>\n",
       "      <td>0.116774</td>\n",
       "      <td>0.112711</td>\n",
       "      <td>0.120838</td>\n",
       "    </tr>\n",
       "  </tbody>\n",
       "</table>\n",
       "</div>"
      ],
      "text/plain": [
       "   Time Interval      Group  Conversion Rate  CI_Lower  CI_Upper\n",
       "0       0-10 min    control         0.121880  0.117721  0.126040\n",
       "1       0-10 min  treatment         0.118130  0.114056  0.122204\n",
       "2      10-20 min    control         0.120246  0.116126  0.124365\n",
       "3      10-20 min  treatment         0.115934  0.111868  0.119999\n",
       "4      20-30 min    control         0.120906  0.116805  0.125007\n",
       "5      20-30 min  treatment         0.119279  0.115185  0.123373\n",
       "6      30-40 min    control         0.119359  0.115256  0.123463\n",
       "7      30-40 min  treatment         0.123001  0.118858  0.127144\n",
       "8      40-50 min    control         0.119389  0.115299  0.123478\n",
       "9      40-50 min  treatment         0.119192  0.115108  0.123277\n",
       "10     50-60 min    control         0.119977  0.115876  0.124078\n",
       "11     50-60 min  treatment         0.116774  0.112711  0.120838"
      ]
     },
     "execution_count": 29,
     "metadata": {},
     "output_type": "execute_result"
    }
   ],
   "source": [
    "import scipy.stats as st\n",
    "\n",
    "# Function to calculate CI for conversion rates\n",
    "def conversion_CI(conversion_rate, n, confidence=0.95):\n",
    "    se = (conversion_rate * (1 - conversion_rate) / n) ** 0.5  # Standard Error\n",
    "    margin = st.norm.ppf((1 + confidence) / 2) * se  # Margin of Error\n",
    "    return (conversion_rate - margin, conversion_rate + margin)\n",
    "\n",
    "# Compute CIs for each time bin and group\n",
    "time_conversion['CI_Lower'] = time_conversion.apply(\n",
    "    lambda row: conversion_CI(row['Conversion Rate'], \n",
    "                              df_cleaned[(df_cleaned['time_bin'] == row['Time Interval']) & \n",
    "                                         (df_cleaned['group'] == row['Group'])].shape[0])[0], axis=1)\n",
    "\n",
    "time_conversion['CI_Upper'] = time_conversion.apply(\n",
    "    lambda row: conversion_CI(row['Conversion Rate'], \n",
    "                              df_cleaned[(df_cleaned['time_bin'] == row['Time Interval']) & \n",
    "                                         (df_cleaned['group'] == row['Group'])].shape[0])[1], axis=1)\n",
    "\n",
    "# Display result\n",
    "time_conversion"
   ]
  },
  {
   "cell_type": "code",
   "execution_count": 33,
   "id": "be837e79",
   "metadata": {},
   "outputs": [
    {
     "data": {
      "image/png": "[encoded data removed]",
      "text/plain": [
       "<Figure size 1200x600 with 1 Axes>"
      ]
     },
     "metadata": {},
     "output_type": "display_data"
    }
   ],
   "source": [
    "# Plot conversion rate with error bars (Confidence Intervals)\n",
    "plt.figure(figsize=(12, 6))\n",
    "\n",
    "# Plot Control group\n",
    "plt.errorbar(time_conversion[time_conversion['Group'] == 'control']['Time Interval'], \n",
    "             time_conversion[time_conversion['Group'] == 'control']['Conversion Rate'], \n",
    "             yerr=[time_conversion[time_conversion['Group'] == 'control']['Conversion Rate'] - time_conversion[time_conversion['Group'] == 'control']['CI_Lower'],\n",
    "                   time_conversion[time_conversion['Group'] == 'control']['CI_Upper'] - time_conversion[time_conversion['Group'] == 'control']['Conversion Rate']],\n",
    "             fmt='o-', capsize=5, label=\"Control\", color='blue')\n",
    "\n",
    "# Plot Treatment group\n",
    "plt.errorbar(time_conversion[time_conversion['Group'] == 'treatment']['Time Interval'], \n",
    "             time_conversion[time_conversion['Group'] == 'treatment']['Conversion Rate'], \n",
    "             yerr=[time_conversion[time_conversion['Group'] == 'treatment']['Conversion Rate'] - time_conversion[time_conversion['Group'] == 'treatment']['CI_Lower'],\n",
    "                   time_conversion[time_conversion['Group'] == 'treatment']['CI_Upper'] - time_conversion[time_conversion['Group'] == 'treatment']['Conversion Rate']],\n",
    "             fmt='o-', capsize=5, label=\"Treatment\", color='red')\n",
    "\n",
    "# Chart labels and title\n",
    "plt.xticks(rotation=45)\n",
    "plt.xlabel(\"Time of Visit (Minutes)\")\n",
    "plt.ylabel(\"Conversion Rate\")\n",
    "plt.title(\"Conversion Rate Over Time with Confidence Intervals\")\n",
    "plt.legend()\n",
    "plt.grid(True)\n",
    "\n",
    "# Show the plot\n",
    "plt.show()"
   ]
  },
  {
   "cell_type": "markdown",
   "id": "a894f7a6",
   "metadata": {},
   "source": [
    "### *Results*\n",
    "\n",
    "- The control and treatment confidence intervals (CIs) overlap in **all time bins**.\n",
    "- **Example (0-10 min bin):**\n",
    "  - **Control:** [0.1177, 0.1260]  \n",
    "  - **Treatment:** [0.1141, 0.1222]  \n",
    "- Since the intervals overlap, this suggests **no strong evidence that time significantly impacts conversion rates.**\n",
    "\n",
    "#### *Slight Differences in Some Bins*\n",
    "- **30-40 min bin:**\n",
    "  - Treatment: (0.1189 – 0.1271)  \n",
    "  - Control: (0.1153 – 0.1235)  \n",
    "  - Slight difference, but overlap still exists.\n",
    "\n",
    "- **50-60 min bin:**\n",
    "  - Control: (0.1159 – 0.1241)  \n",
    "  - Treatment: (0.1127 – 0.1208)  \n",
    "  - Slight gap, but overlap still present.\n",
    "\n",
    "\n",
    "### **Conclusion**\n",
    "- Since the CIs overlap, the conversion rates by time **do not show strong differences**.  \n",
    "- This suggests that **time of visit does NOT significantly impact conversions**.\n",
    "- Let's **confirm this statistically** with **Power Analysis**"
   ]
  },
  {
   "cell_type": "markdown",
   "id": "74d637c9",
   "metadata": {},
   "source": [
    "#### Power Analysis\n",
    "- Did we collect enough data to detect a real difference?\n",
    "- If there was a real difference, what’s the risk that we missed it? (Type II Error)\n",
    "- What’s the minimum effect size (Delta, Δ) we can detect?"
   ]
  },
  {
   "cell_type": "code",
   "execution_count": 35,
   "id": "f2832e42",
   "metadata": {},
   "outputs": [
    {
     "data": {
      "text/plain": [
       "Group\n",
       "control      0.120293\n",
       "treatment    0.118718\n",
       "Name: Conversion Rate, dtype: float64"
      ]
     },
     "execution_count": 35,
     "metadata": {},
     "output_type": "execute_result"
    }
   ],
   "source": [
    "time_conversion.groupby(by='Group')['Conversion Rate'].mean()"
   ]
  },
  {
   "cell_type": "code",
   "execution_count": 36,
   "id": "bd8c7596",
   "metadata": {},
   "outputs": [
    {
     "name": "stdout",
     "output_type": "stream",
     "text": [
      "Required Sample Size per Group: 645196\n"
     ]
    }
   ],
   "source": [
    "from statsmodels.stats.power import TTestIndPower\n",
    "\n",
    "# Define parameters\n",
    "alpha = 0.05  # Significance level (5%)\n",
    "power = 0.8   # Desired power (80%)\n",
    "\n",
    "# Compute effect size (Cohen's d)\n",
    "effect_size = (0.1203 - 0.1187) / ((0.1203 * (1 - 0.1203) + 0.1187 * (1 - 0.1187)) / 2) ** 0.5\n",
    "\n",
    "# Run power analysis\n",
    "analysis = TTestIndPower()\n",
    "sample_size = analysis.solve_power(effect_size=effect_size, alpha=alpha, power=power, alternative='two-sided')\n",
    "\n",
    "print(f\"Required Sample Size per Group: {round(sample_size)}\")"
   ]
  },
  {
   "cell_type": "markdown",
   "id": "a79b6414",
   "metadata": {},
   "source": [
    "#### Results\n",
    "- To reliably detect a meaningful difference between the old and new page, we would need at least 645,196 users per group (total ~1.29 million users).\n",
    "- However, our actual sample size was only ~144,000 users per group (far less than needed)."
   ]
  },
  {
   "cell_type": "markdown",
   "id": "d1b0dca8",
   "metadata": {},
   "source": [
    "#### Type II Error (β)\n",
    "A Type II Error (β) occurs when we fail to detect a true effect (false negative). This means that even if there is a real difference, we may incorrectly conclude that no difference exists due to the insufficient sample size or other factors."
   ]
  },
  {
   "cell_type": "code",
   "execution_count": 37,
   "id": "01d90849",
   "metadata": {},
   "outputs": [
    {
     "name": "stdout",
     "output_type": "stream",
     "text": [
      "Achieved Power: 0.2628\n"
     ]
    }
   ],
   "source": [
    "# Compute achieved power with our actual sample size\n",
    "actual_power = analysis.power(effect_size=effect_size, nobs1=144000, alpha=0.05, alternative='two-sided')\n",
    "\n",
    "print(f\"Achieved Power: {actual_power:.4f}\")"
   ]
  },
  {
   "cell_type": "markdown",
   "id": "d440aafe",
   "metadata": {},
   "source": [
    "#### Power Analysis Results\n",
    "- Power > 0.8 → We have enough data to detect a real difference.\n",
    "- Power < 0.8 → We may not have collected enough data, increasing the risk of a Type II error (β).<br>\n",
    "\n",
    "Ideally, Power ≥ 0.80 (80%) is required to detect a true difference if one exists.\n",
    "\n",
    "- Our achieved power is only 26.3%, meaning there’s a high chance (~73.7%) that we failed to detect a real difference (Type II error).\n",
    "- In other words, even if the new page was better, our test was too weak to prove it."
   ]
  },
  {
   "cell_type": "markdown",
   "id": "1f7ba685",
   "metadata": {},
   "source": [
    "#### Why Was Power So Low?\n",
    "1. Small Effect Size (Δ)\n",
    "- The difference between the control (0.1203) and treatment conversion rates (0.1187) is very tiny.\n",
    "- Small differences require much larger sample sizes to be statistically detectable.\n",
    "\n",
    "2. Not Enough Data\n",
    "- We only had ~144K users per group, but we needed ~645K per group.\n",
    "- This means the test lacked the statistical strength to confirm a real effect.\n",
    "\n",
    "3. High Type II Error (β ≈ 73.7%)\n",
    "- A Type II error occurs when we fail to reject the null hypothesis when there is actually an effect.\n",
    "- Since β = 1 - power, a power of 0.2628 means a 73.7% chance of missing a true effect."
   ]
  },
  {
   "cell_type": "markdown",
   "id": "a6945dd4",
   "metadata": {},
   "source": [
    "### Conclusion\n",
    "If making a decision now, the safest choice is to keep the old page since we have no strong evidence that the new page is better."
   ]
  },
  {
   "cell_type": "code",
   "execution_count": null,
   "id": "593f3e58",
   "metadata": {},
   "outputs": [],
   "source": []
  }
 ],
 "metadata": {
  "kernelspec": {
   "display_name": "dscbot",
   "language": "python",
   "name": "python3"
  },
  "language_info": {
   "codemirror_mode": {
    "name": "ipython",
    "version": 3
   },
   "file_extension": ".py",
   "mimetype": "text/x-python",
   "name": "python",
   "nbconvert_exporter": "python",
   "pygments_lexer": "ipython3",
   "version": "3.12.10"
  }
 },
 "nbformat": 4,
 "nbformat_minor": 5
}
