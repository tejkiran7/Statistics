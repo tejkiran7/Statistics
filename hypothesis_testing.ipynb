{
 "cells": [
  {
   "cell_type": "markdown",
   "id": "f196d953",
   "metadata": {},
   "source": [
    "Company XYZ manufactures calculators with an average mass of 450g. An engineer belives that average weight to be different and decides to calculate the average mass of 50 calculators. State the null and alternative hypotheses."
   ]
  },
  {
   "cell_type": "markdown",
   "id": "9d59e8d0",
   "metadata": {},
   "source": [
    "H0 = The average mass is 450g<br>\n",
    "H1 = The average mass is different from 450g"
   ]
  },
  {
   "cell_type": "markdown",
   "id": "4515830a",
   "metadata": {},
   "source": [
    "Number of samples (n) = 50 <br>\n",
    "Population mean (μ) = 450 <br>\n",
    "Population SD (σ) = ? <br>\n",
    "Sample mean (x̄) = ?"
   ]
  },
  {
   "cell_type": "code",
   "execution_count": 28,
   "id": "6df2b508",
   "metadata": {},
   "outputs": [],
   "source": [
    "import scipy.stats as stats\n",
    "import math"
   ]
  },
  {
   "cell_type": "code",
   "execution_count": null,
   "id": "0e0f8e32",
   "metadata": {},
   "outputs": [
    {
     "name": "stdout",
     "output_type": "stream",
     "text": [
      "Z-statistic: 3.5355\n",
      "P-value: 0.0004\n",
      "Reject the null hypothesis: Evidence suggests the average mass is different.\n"
     ]
    }
   ],
   "source": [
    "#One-Sample z-test (if population std known)\n",
    "\n",
    "def one_sample_z_test(sample_mean, population_mean, population_std, sample_size):\n",
    "    # Standard error\n",
    "    se = population_std / (sample_size ** 0.5)\n",
    "    # Z-score\n",
    "    z = (sample_mean - population_mean) / se\n",
    "    # Two-tailed p-value\n",
    "    p_value = 2 * (1 - stats.norm.cdf(abs(z)))\n",
    "    return z, p_value\n",
    "\n",
    "sample_mean = 455     \n",
    "population_mean = 450\n",
    "population_std = 10   \n",
    "sample_size = 50\n",
    "\n",
    "z_stat, p = one_sample_z_test(sample_mean, population_mean, population_std, sample_size)\n",
    "\n",
    "print(f\"Z-statistic: {z_stat:.4f}\")\n",
    "print(f\"P-value: {p:.4f}\")\n",
    "if p < 0.05:\n",
    "    print(\"Reject the null hypothesis: Evidence suggests the average mass is different.\")\n",
    "else:\n",
    "    print(\"Fail to reject the null hypothesis: No evidence of a difference.\")\n"
   ]
  },
  {
   "cell_type": "code",
   "execution_count": null,
   "id": "a3eb8570",
   "metadata": {},
   "outputs": [
    {
     "name": "stdout",
     "output_type": "stream",
     "text": [
      "Z-statistic: 3.5355\n",
      "P-value: 0.0004\n",
      "Z-critical (±): 1.6449\n",
      "90% Confidence Interval for the mean: (452.67, 457.33)\n",
      "Reject the null hypothesis: Evidence suggests the average mass is different from 450g.\n"
     ]
    }
   ],
   "source": [
    "#One-Sample two-tailed z-test for 90% Confidence Level (α = 0.10)\n",
    "\n",
    "def one_sample_z_test(sample_mean, population_mean, population_std, sample_size, alpha=0.10):\n",
    "    # Standard Error\n",
    "    se = population_std / (sample_size ** 0.5)\n",
    "    \n",
    "    # Z-statistic\n",
    "    z = (sample_mean - population_mean) / se\n",
    "    \n",
    "    # Two-tailed p-value\n",
    "    p_value = 2 * (1 - stats.norm.cdf(abs(z)))\n",
    "    \n",
    "    # Critical z-value for the confidence level\n",
    "    z_critical = stats.norm.ppf(1 - alpha/2)\n",
    "\n",
    "    # Confidence interval\n",
    "    margin_of_error = z_critical * se\n",
    "    ci_lower = sample_mean - margin_of_error\n",
    "    ci_upper = sample_mean + margin_of_error\n",
    "\n",
    "    return {\n",
    "        \"z_statistic\": z,\n",
    "        \"p_value\": p_value,\n",
    "        \"z_critical\": z_critical,\n",
    "        \"confidence_interval\": (ci_lower, ci_upper)\n",
    "    }\n",
    "\n",
    "# Example values\n",
    "sample_mean = 455\n",
    "population_mean = 450\n",
    "population_std = 10\n",
    "sample_size = 50\n",
    "alpha = 0.10  # for 90% confidence level\n",
    "\n",
    "result = one_sample_z_test(sample_mean, population_mean, population_std, sample_size, alpha)\n",
    "\n",
    "print(f\"Z-statistic: {result['z_statistic']:.4f}\")\n",
    "print(f\"P-value: {result['p_value']:.4f}\")\n",
    "print(f\"Z-critical (±): {result['z_critical']:.4f}\")\n",
    "print(f\"90% Confidence Interval for the mean: ({result['confidence_interval'][0]:.2f}, {result['confidence_interval'][1]:.2f})\")\n",
    "\n",
    "# Hypothesis conclusion\n",
    "if result['p_value'] < alpha:\n",
    "    print(\"Reject the null hypothesis: Evidence suggests the average mass is different from 450g.\")\n",
    "else:\n",
    "    print(\"Fail to reject the null hypothesis: No evidence of a significant difference.\")\n"
   ]
  },
  {
   "cell_type": "code",
   "execution_count": 8,
   "id": "e0a496c9",
   "metadata": {},
   "outputs": [
    {
     "name": "stdout",
     "output_type": "stream",
     "text": [
      "Z-statistic: 2.3077\n",
      "P-value: 0.0210\n",
      "Z-critical (±): 1.9600\n",
      "90% Confidence Interval for the mean: (168.23, 170.77)\n",
      "Reject the null hypothesis: Evidence suggests the average weight of resident is different from 168 lbs.\n"
     ]
    }
   ],
   "source": [
    "# Example values\n",
    "sample_mean = 169.5\n",
    "population_mean = 168\n",
    "sample_std = 3.9\n",
    "sample_size = 36\n",
    "alpha = 0.05  # for 95% confidence level\n",
    "\n",
    "result = one_sample_z_test(sample_mean, population_mean, sample_std, sample_size, alpha)\n",
    "\n",
    "print(f\"Z-statistic: {result['z_statistic']:.4f}\")\n",
    "print(f\"P-value: {result['p_value']:.4f}\")\n",
    "print(f\"Z-critical (±): {result['z_critical']:.4f}\")\n",
    "print(f\"90% Confidence Interval for the mean: ({result['confidence_interval'][0]:.2f}, {result['confidence_interval'][1]:.2f})\")\n",
    "\n",
    "# Hypothesis conclusion\n",
    "if result['p_value'] < alpha:\n",
    "    print(\"Reject the null hypothesis: Evidence suggests the average weight of resident is different from 168 lbs.\")\n",
    "else:\n",
    "    print(\"Fail to reject the null hypothesis: No evidence of a significant difference.\")"
   ]
  },
  {
   "cell_type": "markdown",
   "id": "5786d1a2",
   "metadata": {},
   "source": [
    "# z-test for proportions \n",
    "\n",
    "A tech company belives that the percentgae of residents in town XYZ that own a cell phone is 70%. A marketing manager believes this value to be different. He conducts a survey of 200 individuals and found that 130 responded yes to owning a cell phone. (a) StateNull and alternate hypotheses. (b) At a 95% CI, is there enough evidence to reject the null hypothesis?"
   ]
  },
  {
   "cell_type": "markdown",
   "id": "1721a4c4",
   "metadata": {},
   "source": [
    "Null Hypothesis (H₀): 𝑝=0.70\n",
    "\n",
    "Alternative Hypothesis (H₁): 𝑝≠0.70 (two-tailed test)"
   ]
  },
  {
   "cell_type": "code",
   "execution_count": null,
   "id": "623fab91",
   "metadata": {},
   "outputs": [
    {
     "name": "stdout",
     "output_type": "stream",
     "text": [
      "Z-statistic: -1.5430\n",
      "P-value: 0.1228\n",
      "Z-critical (±): 1.9600\n",
      "Fail to reject the null hypothesis: No sufficient evidence to say the true proportion is different from 70%.\n"
     ]
    }
   ],
   "source": [
    "def z_test_proportion(x, n, p0, alpha=0.05):\n",
    "    # Sample proportion\n",
    "    phat = x / n\n",
    "    \n",
    "    # Standard error\n",
    "    se = math.sqrt(p0 * (1 - p0) / n)\n",
    "    \n",
    "    # Z-statistic\n",
    "    z = (phat - p0) / se\n",
    "    \n",
    "    # Two-tailed p-value\n",
    "    p_value = 2 * (1 - stats.norm.cdf(abs(z)))\n",
    "    \n",
    "    # Z critical for 95% CI\n",
    "    z_critical = stats.norm.ppf(1 - alpha / 2)\n",
    "    \n",
    "    return z, p_value, z_critical\n",
    "\n",
    "# Given values\n",
    "x = 130\n",
    "n = 200\n",
    "p0 = 0.70\n",
    "alpha = 0.05\n",
    "\n",
    "z_stat, p_value, z_crit = z_test_proportion(x, n, p0, alpha)\n",
    "\n",
    "print(f\"Z-statistic: {z_stat:.4f}\")\n",
    "print(f\"P-value: {p_value:.4f}\")\n",
    "print(f\"Z-critical (±): {z_crit:.4f}\")\n",
    "\n",
    "if abs(z_stat) > z_crit:\n",
    "    print(\"Reject the null hypothesis: There is enough evidence to suggest the true proportion is different from 70%.\")\n",
    "else:\n",
    "    print(\"Fail to reject the null hypothesis: No sufficient evidence to say the true proportion is different from 70%.\")"
   ]
  },
  {
   "cell_type": "code",
   "execution_count": null,
   "id": "4fe32507",
   "metadata": {},
   "outputs": [
    {
     "name": "stdout",
     "output_type": "stream",
     "text": [
      "Z-statistic: -1.6462\n",
      "P-value: 0.0997\n",
      "Z-critical (±): 1.9600\n",
      "Fail to reject the null hypothesis: No sufficient evidence to say the true proportion is different from 70%.\n"
     ]
    }
   ],
   "source": [
    "# Hypothesis Testing with two proportions\n",
    "\n",
    "# Company XYZ manufactures laptops. For quality control, two sets of laptops were tested. In the first group, 32 out of 800 were found to contain some sort of defect. \n",
    "# In the second group 30 out of 500 were found to have defect. Is the difference between the two groups significant? (use a significance level of 0.05)\n",
    "\n",
    "# Null Hypothesis (H₀): 𝑝1=𝑝2 => 𝑝1-𝑝2=0\n",
    "# Alternative Hypothesis (H₁): 𝑝1≠𝑝2 (two-tailed test)\n",
    "\n",
    "def z_test_for_two_proportion(n1,n2,x1,x2,alpha=0.05):\n",
    "    # Sample proportion\n",
    "    p1_hat = x1 / n1\n",
    "    p2_hat = x2 / n2\n",
    "\n",
    "    p = 0 # since 𝑝1-𝑝2=0\n",
    "\n",
    "    p0 = (x1+x2)/(n1+n2)\n",
    "    \n",
    "    # Standard error\n",
    "    se = math.sqrt(p0 * (1 - p0) * ((1/n1) + (1/n2)))\n",
    "    \n",
    "    # Z-statistic\n",
    "    z = ((p1_hat - p2_hat) - p) / se\n",
    "    \n",
    "    # Two-tailed p-value\n",
    "    p_value = 2 * (1 - stats.norm.cdf(abs(z)))\n",
    "    \n",
    "    # Z critical for 95% CI\n",
    "    z_critical = stats.norm.ppf(1 - alpha / 2)\n",
    "    \n",
    "    return z, p_value, z_critical\n",
    "\n",
    "# Given values\n",
    "n1 = 800\n",
    "n2 = 500\n",
    "x1 = 32\n",
    "x2 = 30\n",
    "alpha = 0.05\n",
    "\n",
    "z_stat, p_value, z_crit = z_test_for_two_proportion(n1,n2,x1,x2,alpha)\n",
    "\n",
    "print(f\"Z-statistic: {z_stat:.4f}\")\n",
    "print(f\"P-value: {p_value:.4f}\")\n",
    "print(f\"Z-critical (±): {z_crit:.4f}\")\n",
    "\n",
    "if abs(z_stat) > z_crit:\n",
    "    print(\"Reject the null hypothesis: There is enough evidence to suggest the true proportion is different.\")\n",
    "else:\n",
    "    print(\"Fail to reject the null hypothesis: No sufficient evidence to say the true proportion is different.\")\n"
   ]
  },
  {
   "cell_type": "code",
   "execution_count": 2,
   "id": "6cc44cec",
   "metadata": {},
   "outputs": [
    {
     "name": "stdout",
     "output_type": "stream",
     "text": [
      "T-statistic: 2.9463\n",
      "P-value: 0.0049\n",
      "Reject the null hypothesis: Evidence suggests the average mass is different.\n"
     ]
    }
   ],
   "source": [
    "#One-Sample t-test (if population std unknown)\n",
    "\n",
    "def one_sample_t_test(sample_mean, population_mean, sample_std, sample_size):\n",
    "    # Standard error\n",
    "    se = sample_std / (sample_size ** 0.5)\n",
    "    # t-score\n",
    "    t = (sample_mean - population_mean) / se\n",
    "    # Degrees of freedom\n",
    "    df = sample_size - 1\n",
    "    # Two-tailed p-value\n",
    "    p_value = 2 * (1 - stats.t.cdf(abs(t), df))\n",
    "    return t, p_value\n",
    "\n",
    "# Example usage (replace these with actual values):\n",
    "sample_mean = 455     # Replace with your sample mean\n",
    "population_mean = 450\n",
    "sample_std = 12       # Replace with sample standard deviation\n",
    "sample_size = 50\n",
    "\n",
    "t_stat, p = one_sample_t_test(sample_mean, population_mean, sample_std, sample_size)\n",
    "\n",
    "print(f\"T-statistic: {t_stat:.4f}\")\n",
    "print(f\"P-value: {p:.4f}\")\n",
    "if p < 0.05:\n",
    "    print(\"Reject the null hypothesis: Evidence suggests the average mass is different.\")\n",
    "else:\n",
    "    print(\"Fail to reject the null hypothesis: No evidence of a difference.\")\n"
   ]
  },
  {
   "cell_type": "code",
   "execution_count": null,
   "id": "fd052edb",
   "metadata": {},
   "outputs": [
    {
     "data": {
      "image/png": "[encoded data removed]",
      "text/plain": [
       "<Figure size 1000x600 with 1 Axes>"
      ]
     },
     "metadata": {},
     "output_type": "display_data"
    },
    {
     "data": {
      "image/png": "[encoded data removed]",
      "text/plain": [
       "<Figure size 1000x600 with 1 Axes>"
      ]
     },
     "metadata": {},
     "output_type": "display_data"
    }
   ],
   "source": [
    "# Central limit theorem\n",
    "import numpy as np\n",
    "import matplotlib.pyplot as plt\n",
    "import seaborn as sns\n",
    "\n",
    "# Set style for seaborn plots\n",
    "sns.set(style='whitegrid')\n",
    "\n",
    "# Original population: exponential distribution (non-normal)\n",
    "population = np.random.exponential(scale=2.0, size=100000)\n",
    "\n",
    "# Plot the original population distribution\n",
    "plt.figure(figsize=(10, 6))\n",
    "sns.histplot(population, bins=100, kde=True, color='skyblue')\n",
    "plt.title(\"Original Population Distribution (Exponential)\")\n",
    "plt.xlabel(\"Value\")\n",
    "plt.ylabel(\"Frequency\")\n",
    "plt.show()\n",
    "\n",
    "# Central Limit Theorem Demonstration\n",
    "sample_size = 30  # You can vary this to see the effect (e.g., try 10, 50, 100)\n",
    "num_samples = 1000\n",
    "sample_means = []\n",
    "\n",
    "# Draw many samples and compute their means\n",
    "for _ in range(num_samples):\n",
    "    sample = np.random.choice(population, size=sample_size)\n",
    "    sample_means.append(np.mean(sample))\n",
    "\n",
    "# Plot the distribution of sample means\n",
    "plt.figure(figsize=(10, 6))\n",
    "sns.histplot(sample_means, bins=50, kde=True, color='salmon')\n",
    "plt.title(f\"Distribution of Sample Means (n={sample_size}, CLT)\")\n",
    "plt.xlabel(\"Sample Mean\")\n",
    "plt.ylabel(\"Frequency\")\n",
    "plt.show()"
   ]
  },
  {
   "cell_type": "code",
   "execution_count": null,
   "id": "33f97f1a",
   "metadata": {},
   "outputs": [
    {
     "name": "stdout",
     "output_type": "stream",
     "text": [
      "T-statistic: -3.1804\n",
      "T-critical: 1.8331\n",
      "One-tailed P-value (for weight reduction): 0.0056\n",
      "With T-value :\n",
      "✅ Reject the null hypothesis: The program is effective in reducing weight.\n",
      "With P-value :\n",
      "✅ Reject the null hypothesis: The program is effective in reducing weight.\n"
     ]
    }
   ],
   "source": [
    "# paired (dependent) sample t-test manual calculation\n",
    "\n",
    "# A study was conducted to determine the effectiveness of a weight loss program. The table below shows the before and after weights of 10 subjects in the program. If this program effective for reducing weights?\n",
    "\n",
    "# Null Hypothesis (H₀): mean_differences>=0\n",
    "# Alternative Hypothesis (H₁): mean_differences<0\n",
    "\n",
    "import statistics\n",
    "\n",
    "# Before and After weights\n",
    "before = [185, 192, 206, 177, 225, 168, 256, 239, 199, 218]\n",
    "after =  [169, 187, 193, 176, 194, 171, 228, 217, 204, 195]\n",
    "\n",
    "def paired_t_test(before, after, alpha=0.05):\n",
    "    differences = [a - b for b, a in zip(before, after)]\n",
    "    s_size = len(differences)\n",
    "    df = s_size - 1\n",
    "\n",
    "    mean_differences = sum(differences)/s_size\n",
    "    se = statistics.stdev(differences) / (s_size ** 0.5)\n",
    "\n",
    "    t_stat = (mean_differences - 0) / se\n",
    "    cr_t = stats.t.ppf(1 - alpha, df)\n",
    "    p_v = stats.t.cdf(t_stat, df)\n",
    "\n",
    "    return t_stat,cr_t,p_v\n",
    "\n",
    "alpha=0.05\n",
    "t_stat, cr_t, p_v = paired_t_test(before,after,alpha)\n",
    "\n",
    "# Output\n",
    "print(f\"T-statistic: {t_stat:.4f}\")\n",
    "print(f\"T-critical: {cr_t:.4f}\")\n",
    "print(f\"One-tailed P-value (for weight reduction): {p_v:.4f}\")\n",
    "\n",
    "print('With T-value :')\n",
    "if abs(t_stat) > cr_t:\n",
    "    print(\"✅ Reject the null hypothesis: The program is effective in reducing weight.\")\n",
    "else:\n",
    "    print(\"❌ Fail to reject the null hypothesis: Not enough evidence to say the program is effective.\")\n",
    "\n",
    "print('With P-value :')\n",
    "if p_v < alpha:\n",
    "    print(\"✅ Reject the null hypothesis: The program is effective in reducing weight.\")\n",
    "else:\n",
    "    print(\"❌ Fail to reject the null hypothesis: Not enough evidence to say the program is effective.\")\n"
   ]
  },
  {
   "cell_type": "code",
   "execution_count": 26,
   "id": "49312822",
   "metadata": {},
   "outputs": [
    {
     "name": "stdout",
     "output_type": "stream",
     "text": [
      "T-statistic: -3.1804\n",
      "Two-tailed P-value: 0.0112\n",
      "One-tailed P-value (for weight reduction): 0.0056\n",
      "✅ Reject the null hypothesis: The program is effective in reducing weight.\n"
     ]
    }
   ],
   "source": [
    "# paired (dependent) sample t-test\n",
    "\n",
    "# A study was conducted to determine the effectiveness of a weight loss program. The table below shows the before and after weights of 10 subjects in the program. If this program effective for reducing weights?\n",
    "\n",
    "# Null Hypothesis (H₀): mean_differences>=0\n",
    "# Alternative Hypothesis (H₁): mean_differences<0\n",
    "\n",
    "# Before and After weights\n",
    "before = [185, 192, 206, 177, 225, 168, 256, 239, 199, 218]\n",
    "after  = [169, 187, 193, 176, 194, 171, 228, 217, 204, 195]\n",
    "\n",
    "# Paired t-test (computes mean of differences: after - before)\n",
    "t_stat, p_value_two_tailed = stats.ttest_rel(after, before)\n",
    "\n",
    "# Since H1: mean_difference < 0 (we expect weight reduction), this is a left-tailed test\n",
    "# One-tailed p-value (left tail)\n",
    "if t_stat < 0:\n",
    "    p_value_one_tailed = p_value_two_tailed / 2\n",
    "else:\n",
    "    p_value_one_tailed = 1 - (p_value_two_tailed / 2)\n",
    "\n",
    "# Output\n",
    "print(f\"T-statistic: {t_stat:.4f}\")\n",
    "print(f\"Two-tailed P-value: {p_value_two_tailed:.4f}\")\n",
    "print(f\"One-tailed P-value (for weight reduction): {p_value_one_tailed:.4f}\")\n",
    "\n",
    "# Decision\n",
    "alpha = 0.05\n",
    "if p_value_one_tailed < alpha:\n",
    "    print(\"✅ Reject the null hypothesis: The program is effective in reducing weight.\")\n",
    "else:\n",
    "    print(\"❌ Fail to reject the null hypothesis: Not enough evidence to say the program is effective.\")\n"
   ]
  },
  {
   "cell_type": "code",
   "execution_count": null,
   "id": "2e5f3cfc",
   "metadata": {},
   "outputs": [
    {
     "name": "stdout",
     "output_type": "stream",
     "text": [
      "Chi-square statistic: 6.3000\n",
      "P-value: 0.1778\n",
      "Fail to reject the null hypothesis: No significant difference in absences across the week.\n"
     ]
    }
   ],
   "source": [
    "#chi-square goodness of fit\n",
    "\n",
    "#A school principal would like to know which days of the week most likely to be absent from classes. The principal expects that the students will be absent equally during 5day school week. \n",
    "# The principal selects a random sample of 100 teachers asking them which day of the week they had the highest number of student absences. Use a 5% sognificance level.\n",
    "\n",
    "#Null Hypothesis (H₀): Student absences are equally distributed across the 5 weekdays.\n",
    "#Alternative Hypothesis (H₁): Student absences are not equally distributed across the weekdays.\n",
    "#Significance Level (α): 0.05\n",
    "\n",
    "from scipy.stats import chisquare\n",
    "\n",
    "# Observed frequencies (Mon to Fri)\n",
    "observed = [23, 16, 14, 19, 28]\n",
    "\n",
    "# Expected frequencies: assuming equal absence expected across the 5 days\n",
    "expected = [20, 20, 20, 20, 20]\n",
    "\n",
    "# Perform the chi-square goodness of fit test\n",
    "chi_stat, p_value = chisquare(f_obs=observed, f_exp=expected)\n",
    "\n",
    "# Print the results\n",
    "print(f\"Chi-square statistic: {chi_stat:.4f}\")\n",
    "print(f\"P-value: {p_value:.4f}\")\n",
    "\n",
    "# Significance level\n",
    "alpha = 0.05\n",
    "\n",
    "# Decision\n",
    "if p_value < alpha:\n",
    "    print(\"Reject the null hypothesis: Absences are not equally distributed across the week.\")\n",
    "else:\n",
    "    print(\"Fail to reject the null hypothesis: No significant difference in absences across the week.\")"
   ]
  },
  {
   "cell_type": "code",
   "execution_count": null,
   "id": "510fe12b",
   "metadata": {},
   "outputs": [],
   "source": [
    "#Chi-Square Test for a Single Variance.\n",
    "\n",
    "# Null Hypothesis (H₀): σ = 8.6 (The population standard deviation is 8.6)\n",
    "# Alternative Hypothesis (H₁): σ < 8.6 (The population standard deviation is less than 8.6)\n",
    "\n",
    "import scipy.stats as stats\n",
    "\n",
    "# Given values\n",
    "n = 20\n",
    "s = 6.9           # sample standard deviation\n",
    "sigma = 8.6       # population standard deviation\n",
    "df = n - 1        # degrees of freedom\n",
    "\n",
    "# Compute the chi-square statistic\n",
    "chi_square_stat = (df * s**2) / sigma**2\n",
    "\n",
    "# Compute the p-value (left-tailed test)\n",
    "p_value = stats.chi2.cdf(chi_square_stat, df)\n",
    "\n",
    "# Significance level\n",
    "alpha = 0.05\n",
    "\n",
    "# Output results\n",
    "print(f\"Chi-square statistic: {chi_square_stat:.4f}\")\n",
    "print(f\"P-value: {p_value:.4f}\")\n",
    "\n",
    "# Decision\n",
    "if p_value < alpha:\n",
    "    print(\"Reject the null hypothesis: There is evidence that the true standard deviation is less than 8.6.\")\n",
    "else:\n",
    "    print(\"Fail to reject the null hypothesis: Not enough evidence to suggest the standard deviation is less than 8.6.\")\n"
   ]
  },
  {
   "cell_type": "code",
   "execution_count": null,
   "id": "28078a05",
   "metadata": {},
   "outputs": [
    {
     "name": "stdout",
     "output_type": "stream",
     "text": [
      "Chi-square Statistic: 31.7452\n",
      "Degrees of Freedom: 2\n",
      "P-value: 0.0000\n",
      "\n",
      "Expected Frequencies:\n",
      "[[109.73015873 124.          76.26984127]\n",
      " [113.26984127 128.          78.73015873]]\n",
      "\n",
      "Reject the null hypothesis: Study hours depend on student type.\n"
     ]
    }
   ],
   "source": [
    "#Chi-Square Test of Independence\n",
    "\n",
    "#The table below shows the average number of hours students spend studying for classes each day in a high school. Is the average number of hours dependent on the type of student? (use a 5% significance level)\n",
    "\n",
    "# Null Hypothesis (H₀): Student type and study hours are independent\n",
    "# Alternative Hypothesis (H₁): Student type and study hours are dependent\n",
    "\n",
    "import scipy.stats as stats\n",
    "import numpy as np\n",
    "\n",
    "# Contingency table (Observed values)\n",
    "observed = np.array([\n",
    "    [76, 143, 91],   # Freshman\n",
    "    [147, 109, 64]   # Seniors\n",
    "])\n",
    "\n",
    "# Perform Chi-Square Test of Independence\n",
    "chi2_stat, p_value, dof, expected = stats.chi2_contingency(observed)\n",
    "\n",
    "# Print results\n",
    "print(f\"Chi-square Statistic: {chi2_stat:.4f}\")\n",
    "print(f\"Degrees of Freedom: {dof}\")\n",
    "print(f\"P-value: {p_value:.4f}\")\n",
    "print(\"\\nExpected Frequencies:\")\n",
    "print(expected)\n",
    "\n",
    "# Decision\n",
    "alpha = 0.05\n",
    "if p_value < alpha:\n",
    "    print(\"\\nReject the null hypothesis: Study hours depend on student type.\")\n",
    "else:\n",
    "    print(\"\\nFail to reject the null hypothesis: Study hours are independent of student type.\")"
   ]
  },
  {
   "cell_type": "markdown",
   "id": "607d1d26",
   "metadata": {},
   "source": [
    "# Anova"
   ]
  },
  {
   "cell_type": "code",
   "execution_count": null,
   "id": "7fc80f54",
   "metadata": {},
   "outputs": [
    {
     "name": "stdout",
     "output_type": "stream",
     "text": [
      "F-statistic: 4.6250\n",
      "P-value: 0.0163\n",
      "Critical F-value (α = 0.05): 3.2389\n",
      "Result: F-statistic > critical value → reject null hypothesis.\n"
     ]
    }
   ],
   "source": [
    "#One way Anova\n",
    "\n",
    "# H0 (null hypothesis): μ1=μ2=μ3=…=μki.e it implies that the means of all the population are equal.\n",
    "# H1 (null hypothesis): It states that there will be at least one population mean that differs from the rest.\n",
    "\n",
    "from scipy.stats import f_oneway, f\n",
    "\n",
    "# Data\n",
    "performance1 = [89, 89, 88, 78, 79]\n",
    "performance2 = [93, 92, 94, 89, 88]\n",
    "performance3 = [89, 88, 89, 93, 90]\n",
    "performance4 = [81, 78, 81, 92, 82]\n",
    "\n",
    "# ANOVA\n",
    "f_statistic, p_value = f_oneway(performance1, performance2, performance3, performance4)\n",
    "\n",
    "# Degrees of freedom\n",
    "k = 4  # number of groups\n",
    "N = len(performance1 + performance2 + performance3 + performance4)  # total observations\n",
    "\n",
    "df_between = k - 1\n",
    "df_within = N - k\n",
    "\n",
    "# Critical value at alpha = 0.05\n",
    "alpha = 0.05\n",
    "f_critical = f.ppf(1 - alpha, df_between, df_within)\n",
    "\n",
    "# Print results\n",
    "print(f\"F-statistic: {f_statistic:.4f}\")\n",
    "print(f\"P-value: {p_value:.4f}\")\n",
    "print(f\"Critical F-value (α = 0.05): {f_critical:.4f}\")\n",
    "\n",
    "if f_statistic > f_critical:\n",
    "    print(\"Result: F-statistic > critical value → reject null hypothesis.\")\n",
    "else:\n",
    "    print(\"Result: F-statistic <= critical value → fail to reject null hypothesis.\")"
   ]
  },
  {
   "cell_type": "code",
   "execution_count": null,
   "id": "eab94fa9",
   "metadata": {},
   "outputs": [],
   "source": [
    "# Two-way Anova\n",
    "\n",
    "import pandas as pd\n",
    "import statsmodels.api as sm\n",
    "from statsmodels.formula.api import ols\n",
    "from scipy.stats import f\n",
    "\n",
    "# Step 1: Create DataFrame\n",
    "data = {\n",
    "    'Participant': range(1, 19),\n",
    "    'Gender': ['Male']*9 + ['Female']*9,\n",
    "    'ExerciseProgram': (['Cardio']*3 + ['Strength']*3 + ['Yoga']*3)*2,\n",
    "    'WeightLoss': [\n",
    "        5, 4.8, 5.2, 3.8, 4, 3.7, 2.5, 2.8, 2.6,\n",
    "        4, 4.2, 4.1, 3.2, 3.5, 3.3, 2, 2.2, 2.1\n",
    "    ]\n",
    "}\n",
    "\n",
    "df = pd.DataFrame(data)"
   ]
  },
  {
   "cell_type": "code",
   "execution_count": 7,
   "id": "b070276f",
   "metadata": {},
   "outputs": [
    {
     "name": "stdout",
     "output_type": "stream",
     "text": [
      "ANOVA Table:\n",
      "                                 sum_sq    df           F        PR(>F)\n",
      "C(ExerciseProgram)            14.363333   2.0  331.461538  3.159089e-11\n",
      "C(Gender)                      1.868889   1.0   86.256410  7.912089e-07\n",
      "C(ExerciseProgram):C(Gender)   0.147778   2.0    3.410256  6.718909e-02\n",
      "Residual                       0.260000  12.0         NaN           NaN\n",
      "\n",
      "Critical F-value for ExerciseProgram (α = 0.05): 3.8853\n",
      "Critical F-value for Gender (α = 0.05): 4.7472\n",
      "Critical F-value for Interaction (α = 0.05): 3.8853\n"
     ]
    }
   ],
   "source": [
    "# Step 2: Perform two-way ANOVA\n",
    "model = ols('WeightLoss ~ C(ExerciseProgram) + C(Gender) + C(ExerciseProgram):C(Gender)', data=df).fit()\n",
    "anova_table = sm.stats.anova_lm(model, typ=2)\n",
    "print(\"ANOVA Table:\")\n",
    "print(anova_table)\n",
    "\n",
    "# Step 3: Get critical F-values\n",
    "alpha = 0.05\n",
    "dof_exercise = anova_table.loc['C(ExerciseProgram)', 'df']\n",
    "dof_gender = anova_table.loc['C(Gender)', 'df']\n",
    "dof_interaction = anova_table.loc['C(ExerciseProgram):C(Gender)', 'df']\n",
    "dof_residual = anova_table.loc['Residual', 'df']\n",
    "\n",
    "f_crit_exercise = f.ppf(1 - alpha, dof_exercise, dof_residual)\n",
    "f_crit_gender = f.ppf(1 - alpha, dof_gender, dof_residual)\n",
    "f_crit_interaction = f.ppf(1 - alpha, dof_interaction, dof_residual)\n",
    "\n",
    "print(f\"\\nCritical F-value for ExerciseProgram (α = 0.05): {f_crit_exercise:.4f}\")\n",
    "print(f\"Critical F-value for Gender (α = 0.05): {f_crit_gender:.4f}\")\n",
    "print(f\"Critical F-value for Interaction (α = 0.05): {f_crit_interaction:.4f}\")"
   ]
  },
  {
   "cell_type": "code",
   "execution_count": null,
   "id": "ebc5bc18",
   "metadata": {},
   "outputs": [
    {
     "name": "stdout",
     "output_type": "stream",
     "text": [
      "ANOVA Table:\n",
      "\n",
      "                                 sum_sq    df           F        PR(>F)\n",
      "C(ExerciseProgram)            14.363333   2.0  331.461538  3.159089e-11\n",
      "C(Gender)                      1.868889   1.0   86.256410  7.912089e-07\n",
      "C(ExerciseProgram):C(Gender)   0.147778   2.0    3.410256  6.718909e-02\n",
      "Residual                       0.260000  12.0         NaN           NaN\n",
      "\n",
      "Hypothesis Testing Results:\n",
      "→ Reject H₀ for C(ExerciseProgram): p = 0.0000 < 0.05 → Significant effect.\n",
      "→ Reject H₀ for C(Gender): p = 0.0000 < 0.05 → Significant effect.\n",
      "→ Fail to reject H₀ for C(ExerciseProgram):C(Gender): p = 0.0672 ≥ 0.05 → No significant effect.\n"
     ]
    }
   ],
   "source": [
    "import pandas as pd\n",
    "import statsmodels.api as sm\n",
    "from statsmodels.formula.api import ols\n",
    "from scipy.stats import f\n",
    "\n",
    "# Two-way ANOVA\n",
    "model = ols('WeightLoss ~ C(ExerciseProgram) + C(Gender) + C(ExerciseProgram):C(Gender)', data=df).fit()\n",
    "anova_table = sm.stats.anova_lm(model, typ=2)\n",
    "print(\"ANOVA Table:\\n\")\n",
    "print(anova_table)\n",
    "\n",
    "# Interpret hypothesis testing\n",
    "alpha = 0.05\n",
    "print(\"\\nHypothesis Testing Results:\")\n",
    "for factor in ['C(ExerciseProgram)', 'C(Gender)', 'C(ExerciseProgram):C(Gender)']:\n",
    "    p_val = anova_table.loc[factor, \"PR(>F)\"]\n",
    "    if p_val < alpha:\n",
    "        print(f\"→ Reject H₀ for {factor}: p = {p_val:.4f} < 0.05 → Significant effect.\")\n",
    "    else:\n",
    "        print(f\"→ Fail to reject H₀ for {factor}: p = {p_val:.4f} ≥ 0.05 → No significant effect.\")\n"
   ]
  },
  {
   "cell_type": "code",
   "execution_count": null,
   "id": "8071037c",
   "metadata": {},
   "outputs": [],
   "source": []
  }
 ],
 "metadata": {
  "kernelspec": {
   "display_name": "dscbot",
   "language": "python",
   "name": "python3"
  },
  "language_info": {
   "codemirror_mode": {
    "name": "ipython",
    "version": 3
   },
   "file_extension": ".py",
   "mimetype": "text/x-python",
   "name": "python",
   "nbconvert_exporter": "python",
   "pygments_lexer": "ipython3",
   "version": "3.12.10"
  }
 },
 "nbformat": 4,
 "nbformat_minor": 5
}
